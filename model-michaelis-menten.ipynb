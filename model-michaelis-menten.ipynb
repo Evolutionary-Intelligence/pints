{
 "cells": [
  {
   "cell_type": "markdown",
   "metadata": {},
   "source": [
    "# Michaelis Menten"
   ]
  },
  {
   "cell_type": "markdown",
   "metadata": {},
   "source": [
    "Reactions are:\n",
    "\n",
    "\n",
    "X1 + X2 -> X3\n",
    "\n",
    "X3 -> X1 + X2\n",
    "\n",
    "X3 -> X2 + X4"
   ]
  },
  {
   "cell_type": "code",
   "execution_count": 1,
   "metadata": {},
   "outputs": [],
   "source": [
    "import pints\n",
    "import pints.toy.stochastic\n",
    "import matplotlib.pyplot as plt\n",
    "import numpy as np\n",
    "import math"
   ]
  },
  {
   "cell_type": "markdown",
   "metadata": {},
   "source": [
    "Specify initial concentration, time points at which to record concentration values, and rate constant value (k)"
   ]
  },
  {
   "cell_type": "code",
   "execution_count": 3,
   "metadata": {},
   "outputs": [
    {
     "name": "stdout",
     "output_type": "stream",
     "text": [
      "Done\n"
     ]
    }
   ],
   "source": [
    "x_0 = [1e4, 2e3, 2e4, 0]\n",
    "model = pints.toy.stochastic.MichaelisMentenModel(x_0)\n",
    "\n",
    "times = np.linspace(0, 24, 100)\n",
    "k = [1e-5, 0.2, 0.2]\n",
    "\n",
    "values = model.simulate(k, times)\n",
    "print(\"Done\")"
   ]
  },
  {
   "cell_type": "code",
   "execution_count": 4,
   "metadata": {},
   "outputs": [
    {
     "data": {
      "image/png": "[encoded data removed]",
      "text/plain": [
       "<Figure size 432x288 with 1 Axes>"
      ]
     },
     "metadata": {
      "needs_background": "light"
     },
     "output_type": "display_data"
    }
   ],
   "source": [
    "plt.step(times, values[:,0], label = 'X1')\n",
    "plt.step(times, values[:,1], label = 'X2')\n",
    "plt.step(times, values[:,2], label = 'X3')\n",
    "plt.step(times, values[:,3], label = 'X4')\n",
    "plt.legend()\n",
    "plt.xlabel('time')\n",
    "plt.ylabel('concentration (A(t))'),\n",
    "plt.show()"
   ]
  },
  {
   "cell_type": "markdown",
   "metadata": {},
   "source": []
  },
  {
   "cell_type": "markdown",
   "metadata": {},
   "source": [
    "We can also evaluate this model using tau-leaping for more efficient but approximate simulations"
   ]
  },
  {
   "cell_type": "code",
   "execution_count": 6,
   "metadata": {},
   "outputs": [],
   "source": [
    "values_exact = model.simulate(k, times)\n",
    "values_approx = model.simulate(k, times, approx_tau=0.0125)"
   ]
  },
  {
   "cell_type": "code",
   "execution_count": 7,
   "metadata": {},
   "outputs": [],
   "source": [
    "def plot_output(vs, suffix=''):\n",
    "    plt.step(times, vs[:,0], label = 'X1'+suffix)\n",
    "    plt.step(times, vs[:,1], label = 'X2'+suffix)\n",
    "    plt.step(times, vs[:,2], label = 'X3'+suffix)\n",
    "    plt.step(times, vs[:,3], label = 'X4'+suffix)\n",
    "    plt.legend()\n",
    "    plt.xlabel('time')\n",
    "    plt.ylabel('Molecule Count'),\n",
    "    plt.show()"
   ]
  },
  {
   "cell_type": "code",
   "execution_count": 8,
   "metadata": {},
   "outputs": [
    {
     "data": {
      "image/png": "[encoded data removed]",
      "text/plain": [
       "<Figure size 432x288 with 1 Axes>"
      ]
     },
     "metadata": {
      "needs_background": "light"
     },
     "output_type": "display_data"
    }
   ],
   "source": [
    "plot_output(values_exact)"
   ]
  },
  {
   "cell_type": "code",
   "execution_count": 9,
   "metadata": {},
   "outputs": [],
   "source": [
    "def mc_estimate_approx(n,tau):\n",
    "    return sum([model.simulate(k, times, approx_tau=tau) for i in range(n)])"
   ]
  },
  {
   "cell_type": "code",
   "execution_count": 10,
   "metadata": {},
   "outputs": [],
   "source": [
    "def mse(r1,r2):\n",
    "    return np.square(r1 - r2).mean()"
   ]
  },
  {
   "cell_type": "code",
   "execution_count": 11,
   "metadata": {},
   "outputs": [
    {
     "data": {
      "text/plain": [
       "array([[10000.,  2000., 20000.,     0.],\n",
       "       [10860.,  3810., 18190.,   950.],\n",
       "       [11568.,  5312., 16688.,  1744.],\n",
       "       [12207.,  6752., 15248.,  2545.],\n",
       "       [12724.,  8009., 13991.,  3285.],\n",
       "       [13116.,  9079., 12921.,  3963.],\n",
       "       [13439., 10020., 11980.,  4581.],\n",
       "       [13663., 10819., 11181.,  5156.],\n",
       "       [13796., 11488., 10512.,  5692.],\n",
       "       [13904., 12045.,  9955.,  6141.],\n",
       "       [13918., 12516.,  9484.,  6598.],\n",
       "       [13935., 12958.,  9042.,  7023.],\n",
       "       [13881., 13324.,  8676.,  7443.],\n",
       "       [13842., 13700.,  8300.,  7858.],\n",
       "       [13776., 14023.,  7977.,  8247.],\n",
       "       [13710., 14324.,  7676.,  8614.],\n",
       "       [13621., 14564.,  7436.,  8943.],\n",
       "       [13518., 14796.,  7204.,  9278.],\n",
       "       [13427., 15045.,  6955.,  9618.],\n",
       "       [13230., 15197.,  6803.,  9967.],\n",
       "       [13071., 15356.,  6644., 10285.],\n",
       "       [12933., 15519.,  6481., 10586.],\n",
       "       [12740., 15636.,  6364., 10896.],\n",
       "       [12562., 15772.,  6228., 11210.],\n",
       "       [12388., 15911.,  6089., 11523.],\n",
       "       [12199., 16008.,  5992., 11809.],\n",
       "       [12068., 16187.,  5813., 12119.],\n",
       "       [11898., 16320.,  5680., 12422.],\n",
       "       [11711., 16417.,  5583., 12706.],\n",
       "       [11522., 16498.,  5502., 12976.],\n",
       "       [11365., 16574.,  5426., 13209.],\n",
       "       [11208., 16690.,  5310., 13482.],\n",
       "       [11013., 16752.,  5248., 13739.],\n",
       "       [10839., 16826.,  5174., 13987.],\n",
       "       [10649., 16869.,  5131., 14220.],\n",
       "       [10459., 16950.,  5050., 14491.],\n",
       "       [10288., 17024.,  4976., 14736.],\n",
       "       [10110., 17111.,  4889., 15001.],\n",
       "       [ 9915., 17160.,  4840., 15245.],\n",
       "       [ 9711., 17212.,  4788., 15501.],\n",
       "       [ 9579., 17322.,  4678., 15743.],\n",
       "       [ 9378., 17332.,  4668., 15954.],\n",
       "       [ 9234., 17430.,  4570., 16196.],\n",
       "       [ 9082., 17484.,  4516., 16402.],\n",
       "       [ 8918., 17530.,  4470., 16612.],\n",
       "       [ 8721., 17564.,  4436., 16843.],\n",
       "       [ 8534., 17589.,  4411., 17055.],\n",
       "       [ 8363., 17613.,  4387., 17250.],\n",
       "       [ 8215., 17684.,  4316., 17469.],\n",
       "       [ 8104., 17766.,  4234., 17662.],\n",
       "       [ 7972., 17834.,  4166., 17862.],\n",
       "       [ 7815., 17854.,  4146., 18039.],\n",
       "       [ 7703., 17952.,  4048., 18249.],\n",
       "       [ 7583., 18006.,  3994., 18423.],\n",
       "       [ 7407., 18012.,  3988., 18605.],\n",
       "       [ 7299., 18093.,  3907., 18794.],\n",
       "       [ 7193., 18201.,  3799., 19008.],\n",
       "       [ 7049., 18227.,  3773., 19178.],\n",
       "       [ 6937., 18303.,  3697., 19366.],\n",
       "       [ 6816., 18357.,  3643., 19541.],\n",
       "       [ 6692., 18414.,  3586., 19722.],\n",
       "       [ 6585., 18503.,  3497., 19918.],\n",
       "       [ 6437., 18517.,  3483., 20080.],\n",
       "       [ 6346., 18581.,  3419., 20235.],\n",
       "       [ 6264., 18670.,  3330., 20406.],\n",
       "       [ 6134., 18680.,  3320., 20546.],\n",
       "       [ 6009., 18729.,  3271., 20720.],\n",
       "       [ 5920., 18793.,  3207., 20873.],\n",
       "       [ 5789., 18818.,  3182., 21029.],\n",
       "       [ 5651., 18826.,  3174., 21175.],\n",
       "       [ 5521., 18861.,  3139., 21340.],\n",
       "       [ 5447., 18942.,  3058., 21495.],\n",
       "       [ 5337., 18983.,  3017., 21646.],\n",
       "       [ 5218., 19016.,  2984., 21798.],\n",
       "       [ 5117., 19039.,  2961., 21922.],\n",
       "       [ 5036., 19086.,  2914., 22050.],\n",
       "       [ 4959., 19155.,  2845., 22196.],\n",
       "       [ 4877., 19206.,  2794., 22329.],\n",
       "       [ 4801., 19276.,  2724., 22475.],\n",
       "       [ 4674., 19294.,  2706., 22620.],\n",
       "       [ 4580., 19300.,  2700., 22720.],\n",
       "       [ 4461., 19323.,  2677., 22862.],\n",
       "       [ 4379., 19380.,  2620., 23001.],\n",
       "       [ 4320., 19438.,  2562., 23118.],\n",
       "       [ 4288., 19527.,  2473., 23239.],\n",
       "       [ 4204., 19558.,  2442., 23354.],\n",
       "       [ 4122., 19595.,  2405., 23473.],\n",
       "       [ 4048., 19639.,  2361., 23591.],\n",
       "       [ 3980., 19693.,  2307., 23713.],\n",
       "       [ 3902., 19705.,  2295., 23803.],\n",
       "       [ 3854., 19775.,  2225., 23921.],\n",
       "       [ 3775., 19814.,  2186., 24039.],\n",
       "       [ 3708., 19836.,  2164., 24128.],\n",
       "       [ 3633., 19863.,  2137., 24230.],\n",
       "       [ 3579., 19905.,  2095., 24326.],\n",
       "       [ 3501., 19924.,  2076., 24423.],\n",
       "       [ 3434., 19957.,  2043., 24523.],\n",
       "       [ 3375., 19998.,  2002., 24623.],\n",
       "       [ 3322., 20034.,  1966., 24712.],\n",
       "       [ 3245., 20046.,  1954., 24801.]])"
      ]
     },
     "execution_count": 11,
     "metadata": {},
     "output_type": "execute_result"
    }
   ],
   "source": [
    "model.simulate(k, times)"
   ]
  },
  {
   "cell_type": "code",
   "execution_count": 14,
   "metadata": {},
   "outputs": [
    {
     "data": {
      "text/plain": [
       "array([[10000.,  2000., 20000.,     0.],\n",
       "       [10843.,  3798., 18202.,   955.],\n",
       "       [11578.,  5414., 16586.,  1836.],\n",
       "       [12160.,  6773., 15227.,  2613.],\n",
       "       [12623.,  7957., 14043.,  3334.],\n",
       "       [13040.,  8983., 13017.,  3943.],\n",
       "       [13335.,  9904., 12096.,  4569.],\n",
       "       [13599., 10693., 11307.,  5094.],\n",
       "       [13765., 11394., 10606.,  5629.],\n",
       "       [13861., 11953., 10047.,  6092.],\n",
       "       [13939., 12501.,  9499.,  6562.],\n",
       "       [13952., 12961.,  9039.,  7009.],\n",
       "       [13988., 13429.,  8571.,  7441.],\n",
       "       [13911., 13747.,  8253.,  7836.],\n",
       "       [13840., 14051.,  7949.,  8211.],\n",
       "       [13747., 14344.,  7656.,  8597.],\n",
       "       [13659., 14656.,  7344.,  8997.],\n",
       "       [13482., 14823.,  7177.,  9341.],\n",
       "       [13313., 15005.,  6995.,  9692.],\n",
       "       [13147., 15168.,  6832., 10021.],\n",
       "       [12972., 15323.,  6677., 10351.],\n",
       "       [12838., 15516.,  6484., 10678.],\n",
       "       [12624., 15602.,  6398., 10978.],\n",
       "       [12500., 15815.,  6185., 11315.],\n",
       "       [12324., 15933.,  6067., 11609.],\n",
       "       [12207., 16075.,  5925., 11868.],\n",
       "       [12018., 16164.,  5836., 12146.],\n",
       "       [11794., 16224.,  5776., 12430.],\n",
       "       [11579., 16320.,  5680., 12741.],\n",
       "       [11383., 16410.,  5590., 13027.],\n",
       "       [11219., 16534.,  5466., 13315.],\n",
       "       [11040., 16605.,  5395., 13565.],\n",
       "       [10869., 16684.,  5316., 13815.],\n",
       "       [10705., 16774.,  5226., 14069.],\n",
       "       [10535., 16862.,  5138., 14327.],\n",
       "       [10342., 16909.,  5091., 14567.],\n",
       "       [10150., 16971.,  5029., 14821.],\n",
       "       [ 9972., 17037.,  4963., 15065.],\n",
       "       [ 9758., 17033.,  4967., 15275.],\n",
       "       [ 9596., 17121.,  4879., 15525.],\n",
       "       [ 9425., 17195.,  4805., 15770.],\n",
       "       [ 9294., 17292.,  4708., 15998.],\n",
       "       [ 9138., 17338.,  4662., 16200.],\n",
       "       [ 9019., 17420.,  4580., 16401.],\n",
       "       [ 8845., 17488.,  4512., 16643.],\n",
       "       [ 8705., 17562.,  4438., 16857.],\n",
       "       [ 8559., 17624.,  4376., 17065.],\n",
       "       [ 8412., 17681.,  4319., 17269.],\n",
       "       [ 8277., 17774.,  4226., 17497.],\n",
       "       [ 8126., 17827.,  4173., 17701.],\n",
       "       [ 7978., 17861.,  4139., 17883.],\n",
       "       [ 7855., 17966.,  4034., 18111.],\n",
       "       [ 7709., 18002.,  3998., 18293.],\n",
       "       [ 7584., 18081.,  3919., 18497.],\n",
       "       [ 7466., 18168.,  3832., 18702.],\n",
       "       [ 7295., 18200.,  3800., 18905.],\n",
       "       [ 7151., 18255.,  3745., 19104.],\n",
       "       [ 7019., 18304.,  3696., 19285.],\n",
       "       [ 6887., 18340.,  3660., 19453.],\n",
       "       [ 6776., 18432.,  3568., 19656.],\n",
       "       [ 6672., 18510.,  3490., 19838.],\n",
       "       [ 6527., 18529.,  3471., 20002.],\n",
       "       [ 6425., 18590.,  3410., 20165.],\n",
       "       [ 6312., 18635.,  3365., 20323.],\n",
       "       [ 6170., 18660.,  3340., 20490.],\n",
       "       [ 6040., 18684.,  3316., 20644.],\n",
       "       [ 5909., 18721.,  3279., 20812.],\n",
       "       [ 5828., 18780.,  3220., 20952.],\n",
       "       [ 5741., 18851.,  3149., 21110.],\n",
       "       [ 5629., 18889.,  3111., 21260.],\n",
       "       [ 5539., 18959.,  3041., 21420.],\n",
       "       [ 5391., 18950.,  3050., 21559.],\n",
       "       [ 5311., 19023.,  2977., 21712.],\n",
       "       [ 5186., 19052.,  2948., 21866.],\n",
       "       [ 5062., 19063.,  2937., 22001.],\n",
       "       [ 4958., 19093.,  2907., 22135.],\n",
       "       [ 4866., 19131.,  2869., 22265.],\n",
       "       [ 4761., 19178.,  2822., 22417.],\n",
       "       [ 4689., 19228.,  2772., 22539.],\n",
       "       [ 4601., 19268.,  2732., 22667.],\n",
       "       [ 4568., 19352.,  2648., 22784.],\n",
       "       [ 4475., 19395.,  2605., 22920.],\n",
       "       [ 4393., 19430.,  2570., 23037.],\n",
       "       [ 4302., 19458.,  2542., 23156.],\n",
       "       [ 4227., 19529.,  2471., 23302.],\n",
       "       [ 4146., 19559.,  2441., 23413.],\n",
       "       [ 4033., 19563.,  2437., 23530.],\n",
       "       [ 3946., 19590.,  2410., 23644.],\n",
       "       [ 3860., 19618.,  2382., 23758.],\n",
       "       [ 3803., 19675.,  2325., 23872.],\n",
       "       [ 3750., 19732.,  2268., 23982.],\n",
       "       [ 3716., 19810.,  2190., 24094.],\n",
       "       [ 3660., 19867.,  2133., 24207.],\n",
       "       [ 3601., 19896.,  2104., 24295.],\n",
       "       [ 3516., 19915.,  2085., 24399.],\n",
       "       [ 3450., 19939.,  2061., 24489.],\n",
       "       [ 3380., 19967.,  2033., 24587.],\n",
       "       [ 3333., 20019.,  1981., 24686.],\n",
       "       [ 3279., 20065.,  1935., 24786.],\n",
       "       [ 3210., 20098.,  1902., 24888.]])"
      ]
     },
     "execution_count": 14,
     "metadata": {},
     "output_type": "execute_result"
    }
   ],
   "source": [
    "model.simulate(k, times, approx_tau=0.0125)"
   ]
  },
  {
   "cell_type": "code",
   "execution_count": 15,
   "metadata": {},
   "outputs": [],
   "source": [
    "empirical_mean = sum([model.simulate(k, times) for i in range(30)])/30"
   ]
  },
  {
   "cell_type": "code",
   "execution_count": 16,
   "metadata": {},
   "outputs": [
    {
     "data": {
      "image/png": "[encoded data removed]",
      "text/plain": [
       "<Figure size 432x288 with 1 Axes>"
      ]
     },
     "metadata": {
      "needs_background": "light"
     },
     "output_type": "display_data"
    }
   ],
   "source": [
    "plot_output(empirical_mean)"
   ]
  },
  {
   "cell_type": "code",
   "execution_count": 17,
   "metadata": {},
   "outputs": [],
   "source": [
    "exact_mse = 0\n",
    "for i in range(25):\n",
    "    exact = model.simulate(k, times)\n",
    "    exact_mse += mse(exact, empirical_mean)/25"
   ]
  },
  {
   "cell_type": "code",
   "execution_count": 18,
   "metadata": {},
   "outputs": [
    {
     "name": "stdout",
     "output_type": "stream",
     "text": [
      "Running for tau = 0.0125\n",
      "Running for tau = 0.025\n",
      "Running for tau = 0.05\n",
      "Running for tau = 0.1\n",
      "Running for tau = 0.25\n",
      "Running for tau = 0.5\n",
      "Running for tau = 1\n"
     ]
    }
   ],
   "source": [
    "taus = [0.0125, 0.025, 0.05, 0.1, 0.25, 0.5, 1]\n",
    "approx_mses = []\n",
    "\n",
    "for tau in taus:\n",
    "    amse = 0\n",
    "    print(\"Running for tau = \" + str(tau))\n",
    "    for i in range(1000):\n",
    "        sim = model.simulate(k, times, approx_tau=tau)\n",
    "        amse = mse(empirical_mean, sim)/1000\n",
    "    approx_mses.append(amse)"
   ]
  },
  {
   "cell_type": "code",
   "execution_count": 19,
   "metadata": {},
   "outputs": [
    {
     "data": {
      "text/plain": [
       "[<matplotlib.lines.Line2D at 0x1c7017d8>]"
      ]
     },
     "execution_count": 19,
     "metadata": {},
     "output_type": "execute_result"
    },
    {
     "data": {
      "image/png": "[encoded data removed]",
      "text/plain": [
       "<Figure size 432x288 with 1 Axes>"
      ]
     },
     "metadata": {
      "needs_background": "light"
     },
     "output_type": "display_data"
    }
   ],
   "source": [
    "plt.plot([0]+taus[:4], [exact_mse]+approx_mses[:4], 'bo')"
   ]
  },
  {
   "cell_type": "code",
   "execution_count": null,
   "metadata": {},
   "outputs": [],
   "source": []
  }
 ],
 "metadata": {
  "interpreter": {
   "hash": "62b8c3045b77e73a8aab814fbf01ae024ab075fc3f7014742f3a4c5a8ac43e7b"
  },
  "kernelspec": {
   "display_name": "Python 3.8.0 32-bit",
   "language": "python",
   "name": "python3"
  },
  "language_info": {
   "codemirror_mode": {
    "name": "ipython",
    "version": 3
   },
   "file_extension": ".py",
   "mimetype": "text/x-python",
   "name": "python",
   "nbconvert_exporter": "python",
   "pygments_lexer": "ipython3",
   "version": "3.8.0"
  },
  "orig_nbformat": 4
 },
 "nbformat": 4,
 "nbformat_minor": 2
}
