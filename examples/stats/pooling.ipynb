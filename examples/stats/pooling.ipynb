{
 "cells": [
  {
   "cell_type": "markdown",
   "metadata": {},
   "source": [
    "# Pooling parameters"
   ]
  },
  {
   "cell_type": "markdown",
   "metadata": {},
   "source": [
    "Consider an inference problem where we have measurements of the same biological process for a number of individuals, e.g. the growth of a tumour. Let's assume that this process is described by a logistic growth\n",
    "\n",
    "\\begin{equation*}\n",
    "    f(t | \\theta) = \\frac{k}{1 + (k / f_0 - 1) e^{-r t}},\n",
    "\\end{equation*}\n",
    "\n",
    "where $\\theta = (f_0, r, k)$. Here $f_0$ is the initial size of the tumour $f(t=0, \\theta) = f_0$, $r$ is the growth rate, and $k$ is the maximal size of the tumour. Let's denote the measured time series of the $n$ individuals by $\\{D_1, \\ldots , D_n\\}$, where $D_i$ is the tumour volume at the measured time points of individual $i$.\n",
    "\n",
    "From a biological perspective it makes sense to expect that the tumour growth is captured by the same structural model $f$ across individuals. However, it can also be expected that there are significant biological differences between the indiviudals. As a result, it seems feasible to construct independent likelihoods for each in individual and solve the respective inverse problem independently. This results in an independent set of model parameters $(\\theta _i, \\sigma _i)$ for each individual. Here $\\sigma _i$ are the parameters associated to the error model that is needed for the construction of the likelihood.\n",
    "\n",
    "However, in some biological settings the available data per individual may be quite sparse, and the accuracy of the inference would greatly improve if we could leverage the population information. For example, we may expect that the noise model across individuals may be identical $\\sigma := \\sigma _1 = \\ldots = \\sigma _n$, since the measurement process was identical for all individuals. In other words, *pooling* the noise parameter $\\sigma _i$ across individuals may be benificial for the inference."
   ]
  },
  {
   "cell_type": "markdown",
   "metadata": {},
   "source": [
    "## Illustration\n",
    "\n",
    "Let us illustrate this idea of pooling by synthesizing data for a number of individuals. We will choose the above introduced logistic growth model $f$ and a Gaussian error. To mimick the intuition of biological differences, but identical measurement noise aross individuals, we will slightly vary the structural model parameters $\\theta $ and keep the noise parameter $\\sigma $ the same across indiviudals."
   ]
  },
  {
   "cell_type": "code",
   "execution_count": 2,
   "metadata": {},
   "outputs": [],
   "source": [
    "import matplotlib.pyplot as plt\n",
    "import numpy as np\n",
    "import pints\n",
    "import pints.plot\n",
    "import pints.toy\n",
    "\n",
    "# Define model parameters\n",
    "parameters = [\n",
    "    [2, 0.015, 500, 50],\n",
    "    [1.5, 0.02, 500, 50],\n",
    "    [5, 0.01, 500, 50],\n",
    "    [3, 0.05, 500, 50]]\n",
    "\n",
    "# Generate data\n",
    "data = []\n",
    "for params in parameters:\n",
    "    # Get parameters of individual\n",
    "    f_0, r, k, sigma = params\n",
    "\n",
    "    # Instantiate logistic growth model with f(t=0) = f_0\n",
    "    model = pints.toy.LogisticModel(initial_population_size=f_0)\n",
    "\n",
    "    # Generate data\n",
    "    times = np.linspace(start=0, stop=1000, num=5)\n",
    "    model_output = model.simulate(parameters=[r, k], times=times)\n",
    "    gauss = np.random.normal(loc=0.0, scale=1.0, size=len(model_output))\n",
    "    observations = model_output + sigma * gauss\n",
    "\n",
    "    # Save data as time-observation tuples\n",
    "    data += [np.vstack([times, observations])]"
   ]
  },
  {
   "cell_type": "code",
   "execution_count": null,
   "metadata": {},
   "outputs": [],
   "source": [
    "# Create figure\n",
    "plt.subplots(rows=2, cols=2, sharex=True, sharey=True, figsize=(12, 6))\n",
    "\n",
    "# Plot model output (no noise)\n",
    "plt.plot(data[0, :], model_output, label='model output')\n",
    "\n",
    "# Plot generated data\n",
    "plt.scatter(data[0, :], data[1, :], label='data', edgecolors='black', alpha=0.5)\n",
    "\n",
    "# Create X and Y axis title\n",
    "plt.xlabel('Time [dimensionless]')\n",
    "plt.ylabel('Population size [dimensionless]')\n",
    "\n",
    "# Create legend\n",
    "plt.legend()\n",
    "\n",
    "# Show figure\n",
    "plt.show()"
   ]
  }
 ],
 "metadata": {
  "language_info": {
   "codemirror_mode": {
    "name": "ipython",
    "version": 3
   },
   "file_extension": ".py",
   "mimetype": "text/x-python",
   "name": "python",
   "nbconvert_exporter": "python",
   "pygments_lexer": "ipython3",
   "version": "3.7.5-final"
  },
  "orig_nbformat": 2,
  "kernelspec": {
   "name": "python37564bitvenvvenvd90f37b0ba2d4c088dc4ac74e8b7e700",
   "display_name": "Python 3.7.5 64-bit ('venv': venv)"
  }
 },
 "nbformat": 4,
 "nbformat_minor": 2
}