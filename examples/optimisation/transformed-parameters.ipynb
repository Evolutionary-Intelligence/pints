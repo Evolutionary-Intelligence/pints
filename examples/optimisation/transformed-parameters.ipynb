{
 "cells": [
  {
   "cell_type": "markdown",
   "metadata": {},
   "source": [
    "# Optimisation in a transformed parameter space\n",
    "\n",
    "This example shows you how to run a global optimisation with a transformed parameter space. There are many benefits for parameter transformation, see e.g. \\[1\\], here we will show this in a practical point of view why parameter inference can be useful.\n",
    "\n",
    "For a more elaborate example of an optimisation, see: [basic optimisation example](./first-example.ipynb).\n",
    "\n",
    "First we will create a toy model which implements the logistic model.\n",
    "\n",
    "\\[1\\]  Whittaker, DG, Clerx, M, Lei, CL, Christini, DJ, Mirams, GR. Calibration of ionic and cellular cardiac electrophysiology models. WIREs Syst Biol Med. 2020; 12:e1482. <https://doi.org/10.1002/wsbm.1482>"
   ]
  },
  {
   "cell_type": "code",
   "execution_count": 1,
   "metadata": {},
   "outputs": [],
   "source": [
    "import pints\n",
    "import pints.toy as toy\n",
    "import numpy as np\n",
    "import matplotlib.pyplot as plt\n",
    "import math\n",
    "\n",
    "# Set some random seed so this notebook can be reproduced\n",
    "np.random.seed(10)\n",
    "\n",
    "# Load a logistic forward model\n",
    "model = toy.LogisticModel()"
   ]
  },
  {
   "cell_type": "markdown",
   "metadata": {},
   "source": [
    "We then define some parameters and set up the problem for the optimisation. The parameters for the toy logistic model are $[r, K]$, where $r$ is the rate and $K$ is the carrying capacity."
   ]
  },
  {
   "cell_type": "code",
   "execution_count": 2,
   "metadata": {},
   "outputs": [],
   "source": [
    "# Create some toy data\n",
    "real_parameters = [0.015, 400]  # [r, K]\n",
    "times = np.linspace(0, 1000, 1000)\n",
    "values = model.simulate(real_parameters, times)\n",
    "\n",
    "# Add noise\n",
    "values += np.random.normal(0, 10, values.shape)\n",
    "\n",
    "# Create an object with links to the model and time series\n",
    "problem = pints.SingleOutputProblem(model, times, values)\n",
    "\n",
    "# Select a score function\n",
    "score = pints.SumOfSquaresError(problem)"
   ]
  },
  {
   "cell_type": "markdown",
   "metadata": {},
   "source": [
    "In this example, we will pick some consideringly difficult starting points for the optimisation."
   ]
  },
  {
   "cell_type": "code",
   "execution_count": 3,
   "metadata": {},
   "outputs": [],
   "source": [
    "x0 = [0.5, 0.1]  # [r, K]\n",
    "sigma0 = [0.01, 2.0]"
   ]
  },
  {
   "cell_type": "markdown",
   "metadata": {},
   "source": [
    "Let's run a Nelder-Mead optimisation without doing any parameter transformation to check its performance."
   ]
  },
  {
   "cell_type": "code",
   "execution_count": 4,
   "metadata": {},
   "outputs": [
    {
     "name": "stdout",
     "output_type": "stream",
     "text": [
      "Minimising error measure\n",
      "Using Nelder-Mead\n",
      "Running in sequential mode.\n",
      "Iter. Eval. Best      Time m:s\n",
      "0     3      9.27e+07   0:00.0\n",
      "1     4      9.27e+07   0:00.0\n",
      "2     5      9.27e+07   0:00.0\n",
      "3     6      9.27e+07   0:00.0\n",
      "20    23     9.26e+07   0:00.0\n",
      "40    43     9.25e+07   0:00.0\n",
      "60    63     7.7e+07    0:00.0\n",
      "80    83     2.58e+07   0:00.0\n",
      "100   103    2.58e+07   0:00.0\n",
      "120   123    2.58e+07   0:00.0\n",
      "140   143    2.58e+07   0:00.0\n",
      "160   167    2.58e+07   0:00.0\n",
      "180   192    2.58e+07   0:00.0\n",
      "200   217    2.58e+07   0:00.0\n",
      "220   242    2.58e+07   0:00.0\n",
      "240   269    2.58e+07   0:00.0\n",
      "260   295    2.58e+07   0:00.0\n",
      "280   322    2.58e+07   0:00.0\n",
      "300   349    2.58e+07   0:00.0\n",
      "320   375    2.58e+07   0:00.0\n",
      "340   402    2.58e+07   0:00.0\n",
      "360   429    2.58e+07   0:00.0\n",
      "371   442    2.58e+07   0:00.0\n",
      "Halting: No significant change for 200 iterations.\n",
      "Score at true solution: \n",
      "87997.66499248528\n",
      "Found solution:          True parameters:\n",
      " 1.14854472655286514e+02     1.49999999999999994e-02\n",
      " 2.58753303543239497e+02     4.00000000000000000e+02\n"
     ]
    },
    {
     "data": {
      "image/png": "[encoded data removed]",
      "text/plain": [
       "<Figure size 432x288 with 1 Axes>"
      ]
     },
     "metadata": {
      "needs_background": "light"
     },
     "output_type": "display_data"
    }
   ],
   "source": [
    "found_parameters, found_value = pints.optimise(\n",
    "    score,\n",
    "    x0,\n",
    "    sigma0,\n",
    "    method=pints.NelderMead,\n",
    "    transform=None,\n",
    ")\n",
    "\n",
    "# Show score of true solution\n",
    "print('Score at true solution: ')\n",
    "print(score(real_parameters))\n",
    "\n",
    "# Compare parameters with original\n",
    "print('Found solution:          True parameters:' )\n",
    "for k, x in enumerate(found_parameters):\n",
    "    print(pints.strfloat(x) + '    ' + pints.strfloat(real_parameters[k]))\n",
    "\n",
    "# Show quality of fit\n",
    "plt.figure()\n",
    "plt.xlabel('Time')\n",
    "plt.ylabel('Value')\n",
    "plt.plot(times, values, label='Nosiy data')\n",
    "plt.plot(times, problem.evaluate(found_parameters), label='Fit')\n",
    "plt.legend()\n",
    "plt.show()"
   ]
  },
  {
   "cell_type": "markdown",
   "metadata": {},
   "source": [
    "Without the transformation, i.e. when the optimiser searched in $[r, K]$ space, it failed to converage to the true parameters. It gave up halfway in some very flat region.\n",
    "\n",
    "Now, we will consider a log-transformation of $K$ parameter, so that we have the optimiser to search in $[r, \\log(K)]$ space. It is as simple as to create a pints transformation object as following."
   ]
  },
  {
   "cell_type": "code",
   "execution_count": 5,
   "metadata": {},
   "outputs": [],
   "source": [
    "transform_r = pints.IdentityTransform(1)  # No transformation [r] -> [r]\n",
    "transform_K = pints.LogTransform(1)  # log-transformation [K] -> [log(K)]\n",
    "transform = pints.ComposedTransform(transform_r, transform_K)  # [r, K] -> [r, log(K)]"
   ]
  },
  {
   "cell_type": "markdown",
   "metadata": {},
   "source": [
    "All we have to do is to pass the pints transformation\\* to pints optimisation.\n",
    "\n",
    "\\* Note: we can use it in combination with any of pints' optimisation and [inference](../sampling/transformed-parameters.ipynb) algorithms. "
   ]
  },
  {
   "cell_type": "code",
   "execution_count": 6,
   "metadata": {},
   "outputs": [
    {
     "name": "stdout",
     "output_type": "stream",
     "text": [
      "Minimising error measure\n",
      "Using Nelder-Mead\n",
      "Running in sequential mode.\n",
      "Iter. Eval. Best      Time m:s\n",
      "0     3      9.27e+07   0:00.0\n",
      "1     4      9.27e+07   0:00.0\n",
      "2     5      9.27e+07   0:00.0\n",
      "3     6      9.26e+07   0:00.0\n",
      "20    23     2.78e+07   0:00.0\n",
      "40    43     2.54e+07   0:00.0\n",
      "60    63     1.84e+07   0:00.0\n",
      "80    83     9615881    0:00.0\n",
      "100   103    126525.8   0:00.0\n",
      "120   123    87941.33   0:00.0\n",
      "140   143    87740.45   0:00.0\n",
      "160   163    87740.34   0:00.0\n",
      "180   183    87740.34   0:00.0\n",
      "200   203    87740.34   0:00.0\n",
      "220   223    87740.34   0:00.0\n",
      "240   248    87740.34   0:00.0\n",
      "260   272    87740.34   0:00.1\n",
      "280   297    87740.34   0:00.1\n",
      "300   323    87740.34   0:00.1\n",
      "320   350    87740.34   0:00.1\n",
      "340   377    87740.34   0:00.1\n",
      "360   403    87740.34   0:00.1\n",
      "380   430    87740.34   0:00.1\n",
      "400   457    87740.34   0:00.1\n",
      "420   483    87740.34   0:00.1\n",
      "440   510    87740.34   0:00.1\n",
      "460   537    87740.34   0:00.1\n",
      "480   563    87740.34   0:00.1\n",
      "483   566    87740.34   0:00.1\n",
      "Halting: No significant change for 200 iterations.\n",
      "Score at true solution: \n",
      "87997.66499248528\n",
      "Found solution:          True parameters:\n",
      " 1.50182556513116829e-02     1.49999999999999994e-02\n",
      " 3.99257874928702677e+02     4.00000000000000000e+02\n"
     ]
    },
    {
     "data": {
      "image/png": "[encoded data removed]",
      "text/plain": [
       "<Figure size 432x288 with 1 Axes>"
      ]
     },
     "metadata": {
      "needs_background": "light"
     },
     "output_type": "display_data"
    }
   ],
   "source": [
    "found_parameters, found_value = pints.optimise(\n",
    "    score,\n",
    "    x0,\n",
    "    sigma0,\n",
    "    method=pints.NelderMead,\n",
    "    transform=transform,  # Pass the transformation to the optimiser\n",
    ")\n",
    "\n",
    "# Show score of true solution\n",
    "print('Score at true solution: ')\n",
    "print(score(real_parameters))\n",
    "\n",
    "# Compare parameters with original\n",
    "print('Found solution:          True parameters:' )\n",
    "for k, x in enumerate(found_parameters):\n",
    "    print(pints.strfloat(x) + '    ' + pints.strfloat(real_parameters[k]))\n",
    "\n",
    "# Show quality of fit\n",
    "plt.figure()\n",
    "plt.xlabel('Time')\n",
    "plt.ylabel('Value')\n",
    "plt.plot(times, values, label='Nosiy data')\n",
    "plt.plot(times, problem.evaluate(found_parameters), label='Fit')\n",
    "plt.legend()\n",
    "plt.show()"
   ]
  },
  {
   "cell_type": "markdown",
   "metadata": {},
   "source": [
    "With the log-transformation on one of the parameters, even we use the same data and the same initial positions for the same optimisation algorithm, it outperforms the one without transformation in this example (one converges to the true parameters and one does not!!), showing the importance of the transformation."
   ]
  }
 ],
 "metadata": {
  "kernelspec": {
   "display_name": "Python 3",
   "language": "python",
   "name": "python3"
  },
  "language_info": {
   "codemirror_mode": {
    "name": "ipython",
    "version": 3
   },
   "file_extension": ".py",
   "mimetype": "text/x-python",
   "name": "python",
   "nbconvert_exporter": "python",
   "pygments_lexer": "ipython3",
   "version": "3.8.2"
  }
 },
 "nbformat": 4,
 "nbformat_minor": 2
}
