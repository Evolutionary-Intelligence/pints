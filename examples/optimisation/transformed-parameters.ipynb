{
 "cells": [
  {
   "cell_type": "markdown",
   "metadata": {},
   "source": [
    "# Working in a transformed parameter space\n",
    "\n",
    "This example shows you how to run a global optimisation with a transformed parameter space.\n",
    "\n",
    "For a more elaborate example of an optimisation, see: [basic optimisation example](./first-example.ipynb).\n",
    "\n",
    "First we will create a toy model which implements the logistic model."
   ]
  },
  {
   "cell_type": "code",
   "execution_count": 1,
   "metadata": {},
   "outputs": [],
   "source": [
    "import pints\n",
    "import pints.toy as toy\n",
    "import numpy as np\n",
    "import matplotlib.pyplot as plt\n",
    "import math\n",
    "\n",
    "model = toy.LogisticModel()"
   ]
  },
  {
   "cell_type": "markdown",
   "metadata": {},
   "source": [
    "The parameters for the toy logistic model are $[r, K]$, where $r$ is the rate and $K$ is the carrying capacity. We will create a pints transformation that makes the optimiser to search in $[\\log(r), \\log(K)]$ space."
   ]
  },
  {
   "cell_type": "code",
   "execution_count": 2,
   "metadata": {},
   "outputs": [],
   "source": [
    "transform = pints.LogTransform()"
   ]
  },
  {
   "cell_type": "markdown",
   "metadata": {},
   "source": [
    "Now all we have to do is to pass the pints transformation to pints optimisation, we can use it in combination with all of pints' optimisation and inference algorithms. For now, we will use it to fit simulated data using CMA-ES:"
   ]
  },
  {
   "cell_type": "code",
   "execution_count": 3,
   "metadata": {},
   "outputs": [
    {
     "name": "stdout",
     "output_type": "stream",
     "text": [
      "Minimising error measure\n",
      "Using Covariance Matrix Adaptation Evolution Strategy (CMA-ES)\n",
      "Running in sequential mode.\n",
      "Population size: 6\n",
      "Iter. Eval. Best      Time m:s\n",
      "0     6      1.58e+07   0:00.0\n",
      "1     12     1.53e+07   0:00.0\n",
      "2     18     1.51e+07   0:00.0\n",
      "3     24     1.49e+07   0:00.0\n",
      "20    126    104412.2   0:00.1\n",
      "40    246    92180.16   0:00.1\n",
      "60    366    92179.76   0:00.1\n",
      "80    486    92179.76   0:00.1\n",
      "100   606    92179.76   0:00.2\n",
      "120   726    92179.76   0:00.2\n",
      "140   846    92179.76   0:00.2\n",
      "160   966    92179.76   0:00.3\n",
      "180   1086   92179.76   0:00.3\n",
      "200   1206   92179.76   0:00.3\n",
      "220   1326   92179.76   0:00.3\n",
      "240   1446   92179.76   0:00.3\n",
      "260   1566   92179.76   0:00.4\n",
      "280   1686   92179.76   0:00.4\n",
      "300   1806   92179.76   0:00.4\n",
      "320   1926   92179.76   0:00.5\n",
      "340   2046   92179.76   0:00.5\n",
      "360   2166   92179.76   0:00.5\n",
      "367   2202   92179.76   0:00.5\n",
      "Halting: No significant change for 200 iterations.\n",
      "Score at true solution: \n",
      "92282.7286643545\n",
      "Found solution:          True parameters:\n",
      " 1.49896282911355840e-02     1.49999999999999994e-02\n",
      " 4.00473762221879497e+02     4.00000000000000000e+02\n"
     ]
    },
    {
     "data": {
      "image/png": "[encoded data removed]",
      "text/plain": [
       "<Figure size 432x288 with 1 Axes>"
      ]
     },
     "metadata": {
      "needs_background": "light"
     },
     "output_type": "display_data"
    }
   ],
   "source": [
    "# Create some toy data\n",
    "real_parameters = [0.015, 400]\n",
    "times = np.linspace(0, 1000, 1000)\n",
    "values = model.simulate(real_parameters, times)\n",
    "\n",
    "# Add noise\n",
    "values += np.random.normal(0, 10, values.shape)\n",
    "\n",
    "# Create an object with links to the model and time series\n",
    "problem = pints.SingleOutputProblem(model, times, values)\n",
    "\n",
    "# Select a score function\n",
    "score = pints.SumOfSquaresError(problem)\n",
    "\n",
    "# Select some boundaries\n",
    "boundaries = pints.RectangularBoundaries([0, 0.05], [0.03, 1000.0])\n",
    "\n",
    "# Perform an optimization with boundaries and hints\n",
    "x0 = 0.01,300.0\n",
    "sigma0 = [0.01, 2.0]\n",
    "found_parameters, found_value = pints.optimise(\n",
    "    score,\n",
    "    x0,\n",
    "    sigma0,\n",
    "    boundaries,\n",
    "    method=pints.CMAES,\n",
    "    transform=transform,\n",
    ")\n",
    "\n",
    "# Show score of true solution\n",
    "print('Score at true solution: ')\n",
    "print(score(real_parameters))\n",
    "\n",
    "# Compare parameters with original\n",
    "print('Found solution:          True parameters:' )\n",
    "for k, x in enumerate(found_parameters):\n",
    "    print(pints.strfloat(x) + '    ' + pints.strfloat(real_parameters[k]))\n",
    "\n",
    "# Show quality of fit\n",
    "plt.figure()\n",
    "plt.xlabel('Time')\n",
    "plt.ylabel('Value')\n",
    "plt.plot(times, values, label='Nosiy data')\n",
    "plt.plot(times, problem.evaluate(found_parameters), label='Fit')\n",
    "plt.legend()\n",
    "plt.show()"
   ]
  }
 ],
 "metadata": {
  "kernelspec": {
   "display_name": "Python 3",
   "language": "python",
   "name": "python3"
  },
  "language_info": {
   "codemirror_mode": {
    "name": "ipython",
    "version": 3
   },
   "file_extension": ".py",
   "mimetype": "text/x-python",
   "name": "python",
   "nbconvert_exporter": "python",
   "pygments_lexer": "ipython3",
   "version": "3.8.2"
  }
 },
 "nbformat": 4,
 "nbformat_minor": 2
}
