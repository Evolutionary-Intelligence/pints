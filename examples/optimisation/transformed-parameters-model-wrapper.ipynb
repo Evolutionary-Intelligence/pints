{
 "cells": [
  {
   "cell_type": "markdown",
   "metadata": {},
   "source": [
    "# Working in a transformed parameter space\n",
    "\n",
    "This example shows you how to run an optimisation in a transformed parameter space.\n",
    "(For an introduction to PINTS optimisation, see: [Optimisation: first example](./first-example.ipynb).)"
   ]
  },
  {
   "cell_type": "markdown",
   "metadata": {},
   "source": [
    "First we will create a toy model, in this case a [logistic model](https://pints.readthedocs.io/en/latest/toy/logistic_model.html)."
   ]
  },
  {
   "cell_type": "code",
   "execution_count": 1,
   "metadata": {},
   "outputs": [],
   "source": [
    "import matplotlib.pyplot as plt\n",
    "import numpy as np\n",
    "import pints\n",
    "import pints.toy as toy\n",
    "\n",
    "model = toy.LogisticModel()"
   ]
  },
  {
   "cell_type": "markdown",
   "metadata": {},
   "source": [
    "The parameter vector for the toy logistic model is $\\theta_\\text{org} = [r, K]$, where $r$ is a growth rate and $K$ is called the carrying capacity.\n",
    "Because these parameters have very different magnitudes, we will create a wrapper that instead uses the parameter vector $\\theta = [r, \\log(K)]$"
   ]
  },
  {
   "cell_type": "code",
   "execution_count": 2,
   "metadata": {},
   "outputs": [],
   "source": [
    "class TransformedModel(pints.ForwardModel):\n",
    "    def __init__(self, model):\n",
    "        self._model = model\n",
    "    \n",
    "    def n_parameters(self):\n",
    "        return self._model.n_parameters()\n",
    "    \n",
    "    def simulate(self, parameters, times):\n",
    "        transformed_parameters = [parameters[0], np.exp(parameters[1])]\n",
    "        return self._model.simulate(transformed_parameters,times)\n",
    "\n",
    "transformed_model = TransformedModel(model)"
   ]
  },
  {
   "cell_type": "markdown",
   "metadata": {},
   "source": [
    "Just like the untransformed model, we can use this transformed variant with several PINTS routines.\n",
    "\n",
    "For example, we can fit it to a synthetic data set using CMA-ES:"
   ]
  },
  {
   "cell_type": "code",
   "execution_count": 3,
   "metadata": {},
   "outputs": [
    {
     "name": "stdout",
     "output_type": "stream",
     "text": [
      "Minimising error measure\n",
      "Using Covariance Matrix Adaptation Evolution Strategy (CMA-ES)\n",
      "Running in sequential mode.\n",
      "Population size: 6\n",
      "Iter. Eval. Best      Time m:s\n",
      "0     6      3.57e+07   0:00.1\n",
      "1     12     3.57e+07   0:00.1\n",
      "2     18     3.5e+07    0:00.1\n",
      "3     24     3.44e+07   0:00.1\n",
      "20    126    6347837    0:00.1\n",
      "40    246    100298.1   0:00.2\n",
      "60    366    98811.86   0:00.3\n",
      "80    486    98811.85   0:00.3\n",
      "100   606    98811.85   0:00.4\n",
      "120   726    98811.85   0:00.4\n",
      "140   846    98811.85   0:00.5\n",
      "160   966    98811.85   0:00.5\n",
      "180   1086   98811.85   0:00.6\n",
      "200   1206   98811.85   0:00.7\n",
      "220   1326   98811.85   0:00.7\n",
      "240   1446   98811.85   0:00.8\n",
      "260   1566   98811.85   0:00.8\n",
      "280   1686   98811.85   0:00.9\n",
      "300   1806   98811.85   0:00.9\n",
      "320   1926   98811.85   0:01.0\n",
      "340   2046   98811.85   0:01.0\n",
      "360   2166   98811.85   0:01.1\n",
      "361   2166   98811.85   0:01.1\n",
      "Halting: No significant change for 200 iterations.\n",
      "Score at true solution: \n",
      "99353.56799758377\n",
      "Found solution:          True parameters:\n",
      " 1.50020171035034500e-02     1.49999999999999994e-02\n",
      " 6.00247650367628083e+00     6.00000000000000000e+00\n"
     ]
    },
    {
     "data": {
      "image/png": "[encoded data removed]",
      "text/plain": [
       "<Figure size 432x288 with 1 Axes>"
      ]
     },
     "metadata": {
      "needs_background": "light"
     },
     "output_type": "display_data"
    }
   ],
   "source": [
    "# Create some toy data\n",
    "real_parameters = [0.015, 6]\n",
    "times = np.linspace(0, 1000, 1000)\n",
    "values = transformed_model.simulate(real_parameters, times)\n",
    "\n",
    "# Add noise\n",
    "values += np.random.normal(0, 10, values.shape)\n",
    "\n",
    "# Create an object with links to the model and time series\n",
    "problem = pints.SingleOutputProblem(transformed_model, times, values)\n",
    "\n",
    "# Select a score function\n",
    "score = pints.SumOfSquaresError(problem)\n",
    "\n",
    "# Select some boundaries\n",
    "boundaries = pints.RectangularBoundaries([0, -6.0], [0.03, 20.0])\n",
    "\n",
    "# Perform an optimisation with boundaries and hints\n",
    "x0 = 0.01,5.0\n",
    "sigma0 = [0.01, 2.0]\n",
    "found_parameters, found_value = pints.optimise(\n",
    "    score,\n",
    "    x0,\n",
    "    sigma0,\n",
    "    boundaries,\n",
    "    method=pints.CMAES,\n",
    ")\n",
    "\n",
    "# Show score of true solution\n",
    "print('Score at true solution: ')\n",
    "print(score(real_parameters))\n",
    "\n",
    "# Compare parameters with original\n",
    "print('Found solution:          True parameters:' )\n",
    "for k, x in enumerate(found_parameters):\n",
    "    print(pints.strfloat(x) + '    ' + pints.strfloat(real_parameters[k]))\n",
    "\n",
    "# Show quality of fit\n",
    "plt.figure()\n",
    "plt.xlabel('Time')\n",
    "plt.ylabel('Value')\n",
    "plt.plot(times, values, label='Nosiy data')\n",
    "plt.plot(times, problem.evaluate(found_parameters), label='Fit')\n",
    "plt.legend()\n",
    "plt.show()"
   ]
  }
 ],
 "metadata": {
  "kernelspec": {
   "display_name": "Python 3",
   "language": "python",
   "name": "python3"
  },
  "language_info": {
   "codemirror_mode": {
    "name": "ipython",
    "version": 3
   },
   "file_extension": ".py",
   "mimetype": "text/x-python",
   "name": "python",
   "nbconvert_exporter": "python",
   "pygments_lexer": "ipython3",
   "version": "3.7.7"
  }
 },
 "nbformat": 4,
 "nbformat_minor": 2
}
