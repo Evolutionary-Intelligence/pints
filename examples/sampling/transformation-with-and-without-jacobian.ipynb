{
 "cells": [
  {
   "cell_type": "markdown",
   "metadata": {},
   "source": [
    "# Need for Jacobian adjustment in parameter transformation\n",
    "\n",
    "In this example, we show sampling under parameter transformation with and without Jacobian adjustment."
   ]
  },
  {
   "cell_type": "code",
   "execution_count": 1,
   "metadata": {},
   "outputs": [],
   "source": [
    "import pints\n",
    "import numpy as np\n",
    "import matplotlib.pyplot as plt"
   ]
  },
  {
   "cell_type": "markdown",
   "metadata": {},
   "source": [
    "We create a beta distribution:\n",
    "\n",
    "$$f(x; a, b) = \\frac{\\Gamma(a+b)}{\\Gamma(a)\\Gamma(b)} x^{a-1} (1-x)^{b-1},$$\n",
    "\n",
    "with $a=2$ and $b=2$."
   ]
  },
  {
   "cell_type": "code",
   "execution_count": 2,
   "metadata": {},
   "outputs": [],
   "source": [
    "from scipy.stats import beta\n",
    "\n",
    "class BetaLogPDF(pints.LogPDF):\n",
    "    def n_parameters(self):\n",
    "        return 1\n",
    "\n",
    "    def __call__(self, x):\n",
    "        if 0. < x[0] < 1.:\n",
    "            return np.log(beta.pdf(x, a=2, b=2))[0]\n",
    "        else:\n",
    "            return -np.inf\n",
    "\n",
    "log_pdf = BetaLogPDF()\n",
    "\n",
    "# Generate some initial positions\n",
    "x0 = np.random.uniform([0], [1], size=(4, 1))"
   ]
  },
  {
   "cell_type": "markdown",
   "metadata": {},
   "source": [
    "We try to sample it with MCMC."
   ]
  },
  {
   "cell_type": "code",
   "execution_count": 3,
   "metadata": {},
   "outputs": [
    {
     "name": "stdout",
     "output_type": "stream",
     "text": [
      "Running...\n",
      "Done!\n"
     ]
    }
   ],
   "source": [
    "# Create an adaptive covariance MCMC routine\n",
    "mcmc = pints.MCMCController(log_pdf, 4, x0, method=pints.HaarioBardenetACMC)\n",
    "\n",
    "# Set maximum number of iterations\n",
    "mcmc.set_max_iterations(10000)\n",
    "\n",
    "# Disable logging\n",
    "mcmc.set_log_to_screen(False)\n",
    "\n",
    "# Number of chains\n",
    "num_chains = 4\n",
    "\n",
    "# Run!\n",
    "print('Running...')\n",
    "chains = mcmc.run()\n",
    "print('Done!')\n",
    "\n",
    "# Discard warm-up\n",
    "chains = [chain[1000:] for chain in chains]"
   ]
  },
  {
   "cell_type": "markdown",
   "metadata": {},
   "source": [
    "Now we inspect the MCMC samples and how it compares to the analytical form of the beta distribution."
   ]
  },
  {
   "cell_type": "code",
   "execution_count": 4,
   "metadata": {},
   "outputs": [
    {
     "data": {
      "image/png": "[encoded data removed]",
      "text/plain": [
       "<Figure size 432x288 with 1 Axes>"
      ]
     },
     "metadata": {
      "needs_background": "light"
     },
     "output_type": "display_data"
    }
   ],
   "source": [
    "plt.hist(chains[0], bins=15, density=True)\n",
    "x = np.linspace(0, 1, 100)\n",
    "plt.plot(x, beta.pdf(x, a=2, b=2))\n",
    "plt.xlabel(r'$x$')\n",
    "plt.ylabel('PDF')\n",
    "plt.show()"
   ]
  },
  {
   "cell_type": "markdown",
   "metadata": {},
   "source": [
    "So far so good, we are able to sample from the original space $x \\in [0, 1]$, let's call this the 'model space' where it's meaningful to be with $0$ and $1$.\n",
    "\n",
    "Now we consider some transformation, we will use the [logit (or log-odds) transformation](https://pints.readthedocs.io/en/latest/transformations.html#pints.LogitTransformation):\n",
    "\n",
    "$$y = \\text{logit}(x) = \\log\\left(\\frac{x}{1-x}\\right),$$\n",
    "\n",
    "which transforms the constrained model parameter $x$ to an unconstrained search space $y$."
   ]
  },
  {
   "cell_type": "code",
   "execution_count": 5,
   "metadata": {},
   "outputs": [],
   "source": [
    "transform = pints.LogitTransformation(1)"
   ]
  },
  {
   "cell_type": "markdown",
   "metadata": {},
   "source": [
    "We will now compare two transformations of the beta distribution.\n",
    "\n",
    "The first one is the naive transformation which we simply transform the parameters as if using the [wrapping the model](../optimisation/transformed-parameters-model-wrapper.ipynb) without applying Jacobian adjustment."
   ]
  },
  {
   "cell_type": "code",
   "execution_count": 6,
   "metadata": {},
   "outputs": [],
   "source": [
    "class NaiveTransformedLogPDF(pints.LogPDF):\n",
    "    \"\"\"Transforming LogPDF without Jacobian adjustment\"\"\"\n",
    "    def __init__(self, log_pdf, transform):\n",
    "        self._log_pdf = log_pdf\n",
    "        self._transform = transform\n",
    "    \n",
    "    def n_parameters(self):\n",
    "        return self._log_pdf.n_parameters()\n",
    "    \n",
    "    def __call__(self, y):\n",
    "        # Transform from search space y back to model space x\n",
    "        x = self._transform.to_model(y)\n",
    "        # Then we call the log-pdf in the model space x\n",
    "        return self._log_pdf(x)\n",
    "\n",
    "naive_trans_log_pdf = NaiveTransformedLogPDF(log_pdf, transform)\n",
    "\n",
    "# Transform the initial position to search space\n",
    "y0 = [transform.to_search(x) for x in x0]"
   ]
  },
  {
   "cell_type": "markdown",
   "metadata": {},
   "source": [
    "We then sample this naive transformed beta distribution using MCMC in the search space $y$."
   ]
  },
  {
   "cell_type": "code",
   "execution_count": 7,
   "metadata": {},
   "outputs": [
    {
     "name": "stdout",
     "output_type": "stream",
     "text": [
      "Running...\n",
      "Done!\n"
     ]
    }
   ],
   "source": [
    "# Create an adaptive covariance MCMC routine\n",
    "mcmc = pints.MCMCController(\n",
    "    naive_trans_log_pdf,  # Naive transformation without Jacobian\n",
    "    4,\n",
    "    y0,                   # Input is in the search space y\n",
    "    method=pints.HaarioBardenetACMC)\n",
    "\n",
    "# Set maximum number of iterations\n",
    "mcmc.set_max_iterations(10000)\n",
    "\n",
    "# Disable logging\n",
    "mcmc.set_log_to_screen(False)\n",
    "\n",
    "# Number of chains\n",
    "num_chains = 4\n",
    "\n",
    "# Run!\n",
    "print('Running...')\n",
    "naive_chains_in_y = mcmc.run()\n",
    "print('Done!')\n",
    "\n",
    "# Discard warm-up\n",
    "naive_chains_in_y = [naive_chain[1000:] for naive_chain in naive_chains_in_y]"
   ]
  },
  {
   "cell_type": "markdown",
   "metadata": {},
   "source": [
    "Let's have a look at what the samples look like in the search space $y$ first."
   ]
  },
  {
   "cell_type": "code",
   "execution_count": 8,
   "metadata": {},
   "outputs": [
    {
     "data": {
      "image/png": "[encoded data removed]",
      "text/plain": [
       "<Figure size 432x288 with 1 Axes>"
      ]
     },
     "metadata": {
      "needs_background": "light"
     },
     "output_type": "display_data"
    }
   ],
   "source": [
    "plt.hist(naive_chains_in_y[0], bins=15, density=True)\n",
    "plt.xlabel(r'$y$')\n",
    "plt.ylabel('PDF')\n",
    "plt.show()"
   ]
  },
  {
   "cell_type": "markdown",
   "metadata": {},
   "source": [
    "OK, not quite sure what that means, $y$ is the search space parameter which we are not interested in it!\n",
    "\n",
    "Let's backward transform these samples _directly_ back to the model space $x$ and hope for the best..."
   ]
  },
  {
   "cell_type": "code",
   "execution_count": 9,
   "metadata": {},
   "outputs": [
    {
     "data": {
      "image/png": "[encoded data removed]",
      "text/plain": [
       "<Figure size 432x288 with 1 Axes>"
      ]
     },
     "metadata": {
      "needs_background": "light"
     },
     "output_type": "display_data"
    }
   ],
   "source": [
    "# Transform the samples from y back to x\n",
    "naive_chains_in_x = transform.multiple_to_model(naive_chains_in_y[0])\n",
    "\n",
    "plt.hist(naive_chains_in_x, bins=15, density=True)\n",
    "x = np.linspace(0, 1, 100)\n",
    "plt.plot(x, beta.pdf(x, a=2, b=2))\n",
    "plt.xlabel(r'$x$')\n",
    "plt.ylabel('PDF (transformed without Jacobian)')\n",
    "plt.show()"
   ]
  },
  {
   "cell_type": "markdown",
   "metadata": {},
   "source": [
    "The sampled distribution has gone horribly wrong with this naive transformation without Jacobian adjustment!!!\n",
    "\n",
    "This time we will use [pints.TransformedLogPDF](https://pints.readthedocs.io/en/latest/transformations.html#pints.TransformedLogPDF) which will handle all the necessary correction and adjustment for the transformation!"
   ]
  },
  {
   "cell_type": "code",
   "execution_count": 10,
   "metadata": {},
   "outputs": [],
   "source": [
    "pints_trans_log_pdf = pints.TransformedLogPDF(log_pdf, transform)"
   ]
  },
  {
   "cell_type": "markdown",
   "metadata": {},
   "source": [
    "We will repeat the same procedure as before: sampling in the search space $y$."
   ]
  },
  {
   "cell_type": "code",
   "execution_count": 11,
   "metadata": {},
   "outputs": [
    {
     "name": "stdout",
     "output_type": "stream",
     "text": [
      "Running...\n",
      "Done!\n"
     ]
    }
   ],
   "source": [
    "# Create an adaptive covariance MCMC routine\n",
    "mcmc = pints.MCMCController(\n",
    "    pints_trans_log_pdf,  # Transformation using pints\n",
    "    4,\n",
    "    y0,                   # Again in search space y\n",
    "    method=pints.HaarioBardenetACMC)\n",
    "\n",
    "# Set maximum number of iterations\n",
    "mcmc.set_max_iterations(10000)\n",
    "\n",
    "# Disable logging\n",
    "mcmc.set_log_to_screen(False)\n",
    "\n",
    "# Number of chains\n",
    "num_chains = 4\n",
    "\n",
    "# Run!\n",
    "print('Running...')\n",
    "pints_chains_in_y = mcmc.run()\n",
    "print('Done!')\n",
    "\n",
    "# Discard warm-up\n",
    "pints_chains_in_y = [pints_chain[1000:] for pints_chain in pints_chains_in_y]"
   ]
  },
  {
   "cell_type": "code",
   "execution_count": 12,
   "metadata": {},
   "outputs": [
    {
     "data": {
      "image/png": "[encoded data removed]",
      "text/plain": [
       "<Figure size 432x288 with 1 Axes>"
      ]
     },
     "metadata": {
      "needs_background": "light"
     },
     "output_type": "display_data"
    },
    {
     "data": {
      "image/png": "[encoded data removed]",
      "text/plain": [
       "<Figure size 432x288 with 1 Axes>"
      ]
     },
     "metadata": {
      "needs_background": "light"
     },
     "output_type": "display_data"
    }
   ],
   "source": [
    "plt.hist(pints_chains_in_y[0], bins=15, density=True)\n",
    "plt.xlabel(r'$y$')\n",
    "plt.ylabel('PDF')\n",
    "plt.show()\n",
    "\n",
    "# Transform the samples from y back to x\n",
    "pints_chains_in_x = transform.multiple_to_model(pints_chains_in_y[0])\n",
    "\n",
    "plt.hist(pints_chains_in_x, bins=15, density=True)\n",
    "x = np.linspace(0, 1, 100)\n",
    "plt.plot(x, beta.pdf(x, a=2, b=2))\n",
    "plt.xlabel(r'$x$')\n",
    "plt.ylabel('PDF (transformed without Jacobian)')\n",
    "plt.show()"
   ]
  },
  {
   "cell_type": "markdown",
   "metadata": {},
   "source": [
    "This is look very much like the correct beta distribution when we using the transform provided by Pints!\n",
    "\n",
    "This example simply tries to show the importance of the Jacobian adjustment when applying parameter transformation for PDFs! For practical use, all the [pints.Transformation](https://pints.readthedocs.io/en/latest/transformations.html#pints.Transformation) classes can be directly passed to the `Controller`s as shown in [another example notebook](./transformed-parameters.ipynb)."
   ]
  }
 ],
 "metadata": {
  "kernelspec": {
   "display_name": "Python 3",
   "language": "python",
   "name": "python3"
  },
  "language_info": {
   "codemirror_mode": {
    "name": "ipython",
    "version": 3
   },
   "file_extension": ".py",
   "mimetype": "text/x-python",
   "name": "python",
   "nbconvert_exporter": "python",
   "pygments_lexer": "ipython3",
   "version": "3.8.2"
  }
 },
 "nbformat": 4,
 "nbformat_minor": 4
}
