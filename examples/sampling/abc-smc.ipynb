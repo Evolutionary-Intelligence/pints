{
 "cells": [
  {
   "cell_type": "markdown",
   "metadata": {},
   "source": [
    "# ABC-SMC"
   ]
  },
  {
   "cell_type": "markdown",
   "metadata": {},
   "source": [
    "PINTS can be used to perform inference for stochastic forward models. Here, we perform inference on the [stochastic degradation model](../toy/model-stochastic-degradation.ipynb) using Approximate Bayesian Computation (ABC). This model has only a single unknown parameter -- the rate at which chemicals degrade. We use the \"ABC SMC\" method to estimate this unknown and provide a measure of uncertainty in it."
   ]
  },
  {
   "cell_type": "markdown",
   "metadata": {},
   "source": [
    "First, we load the stochastic degradation model and perform 10 simulations from it. The variation inbetween runs is due to the inherent stochasticity of this type of model."
   ]
  },
  {
   "cell_type": "code",
   "execution_count": 1,
   "metadata": {},
   "outputs": [],
   "source": [
    "import pints\n",
    "import pints.toy as toy\n",
    "import pints.toy.stochastic\n",
    "import pints.plot\n",
    "import numpy as np\n",
    "import matplotlib.pyplot as plt"
   ]
  },
  {
   "cell_type": "code",
   "execution_count": 2,
   "metadata": {},
   "outputs": [
    {
     "data": {
      "image/png": "[encoded data removed]",
      "text/plain": [
       "<Figure size 432x288 with 1 Axes>"
      ]
     },
     "metadata": {
      "needs_background": "light"
     },
     "output_type": "display_data"
    }
   ],
   "source": [
    "np.random.seed(5)\n",
    "\n",
    "# Load a forward model\n",
    "model = toy.stochastic.DegradationModel()\n",
    "\n",
    "# Create some toy data\n",
    "real_parameters = model.suggested_parameters()\n",
    "times = np.linspace(0, 10, 100)\n",
    "\n",
    "for i in range(10):\n",
    "    values = model.simulate(real_parameters, times)\n",
    "\n",
    "    # Create an object with links to the model and time series\n",
    "    problem = pints.SingleOutputProblem(model, times, values)\n",
    "\n",
    "    # Create a uniform prior parameter\n",
    "    log_prior = pints.UniformLogPrior([0.0], [0.3])\n",
    "\n",
    "    # Set the error measure to be used to compare simulated to observed data\n",
    "    error_measure = pints.RootMeanSquaredError(problem)\n",
    "\n",
    "    plt.step(times, values)\n",
    "\n",
    "\n",
    "plt.xlabel('time')\n",
    "plt.ylabel('concentration (A(t))')\n",
    "plt.show()"
   ]
  },
  {
   "cell_type": "markdown",
   "metadata": {},
   "source": [
    "## Fit using ABC SMC\n",
    "\n",
    "The ABC SMC method can be used to perform parameter inference for stochastic models, where the likelihood is intractable. In ABC methods, typically, a distance metric comparing the observed data and the simulated is used. Here, we use the root mean square error (RMSE), and we accept a parameter value if the $RMSE<3$ for the first intermediate distribution, $RMSE<1.5$ for the second one and $RMSE<1$ for the last. The size of the intermediate distributions will be 200."
   ]
  },
  {
   "cell_type": "code",
   "execution_count": 3,
   "metadata": {},
   "outputs": [
    {
     "name": "stdout",
     "output_type": "stream",
     "text": [
      "Running...\n",
      "Using ABC-SMC\n",
      "Running in sequential mode.\n",
      "Starting t=0, with threshold=3.0\n",
      "Starting t=1, with threshold=1.5\n",
      "Starting t=2, with threshold=1.0\n",
      "Iter. Eval. Acceptance rate Time m:s\n",
      "1     2025   0.00049382716    0:03.7\n",
      "2     2054   0.000973709834   0:03.7\n",
      "3     2066   0.00145208132    0:03.7\n",
      "20    2646   0.00755857899    0:04.4\n",
      "40    3300   0.0121212121     0:05.1\n",
      "60    4348   0.013799448      0:06.2\n",
      "80    5075   0.0157635468     0:07.0\n",
      "100   5687   0.0175839634     0:07.7\n",
      "120   6377   0.0188176258     0:08.4\n",
      "140   6955   0.0201294033     0:09.0\n",
      "160   7592   0.0210748156     0:09.6\n",
      "180   8053   0.0223519185     0:10.1\n",
      "200   8735   0.0228963938     0:10.8\n",
      "220   9380   0.0234541578     0:11.5\n",
      "240   10165  0.0236104279     0:12.3\n",
      "260   10881  0.0238948626     0:13.5\n",
      "280   11510  0.0243266725     0:14.4\n",
      "300   12359  0.0242738086     0:15.4\n",
      "320   13093  0.0244405407     0:16.3\n",
      "340   13951  0.0243710128     0:17.3\n",
      "360   14770  0.0243737305     0:18.2\n",
      "380   15481  0.0245462179     0:18.9\n",
      "400   16148  0.0247708695     0:19.6\n",
      "420   16822  0.0249673047     0:20.3\n",
      "440   17485  0.0251644267     0:21.0\n",
      "460   18470  0.0249052518     0:22.0\n",
      "480   19275  0.0249027237     0:22.8\n",
      "500   20037  0.0249538354     0:23.6\n",
      "520   20750  0.025060241      0:24.3\n",
      "540   21577  0.0250266487     0:25.1\n",
      "560   22095  0.0253451007     0:25.7\n",
      "580   23152  0.0250518314     0:26.7\n",
      "600   23557  0.0254701363     0:27.1\n",
      "620   24146  0.0256771308     0:27.7\n",
      "640   24971  0.0256297305     0:28.6\n",
      "660   25615  0.0257661526     0:29.2\n",
      "680   26414  0.0257439237     0:30.0\n",
      "700   26868  0.0260532976     0:30.5\n",
      "720   27780  0.0259179266     0:31.4\n",
      "740   28498  0.0259667345     0:32.1\n",
      "760   29137  0.0260836737     0:32.8\n",
      "780   29916  0.0260730044     0:33.6\n",
      "800   30661  0.0260917778     0:34.3\n",
      "820   31580  0.0259658011     0:35.2\n",
      "840   32314  0.0259949248     0:35.9\n",
      "860   33152  0.0259411197     0:36.8\n",
      "880   33981  0.0258968247     0:37.7\n",
      "900   34410  0.0261551874     0:38.1\n",
      "920   35560  0.025871766      0:39.3\n",
      "940   36489  0.0257611883     0:40.2\n",
      "960   37079  0.0258906659     0:40.8\n",
      "980   37809  0.0259197546     0:41.5\n",
      "1000  38428  0.0260226918     0:42.2\n",
      "Halting: target number of samples (1000) reached.\n",
      "Done\n"
     ]
    }
   ],
   "source": [
    "np.random.seed(1)\n",
    "abc = pints.ABCController(error_measure, log_prior, method=pints.ABCSMC)\n",
    "\n",
    "# set threshold schedule\n",
    "abc.sampler().set_threshold_schedule(np.array([3,1.5,1]))\n",
    "\n",
    "# produce intermediate distributions of size 200\n",
    "abc.sampler().set_intermediate_size(200)\n",
    "\n",
    "# set target number of samples\n",
    "abc.set_n_samples(1000)\n",
    "\n",
    "# log to screen\n",
    "abc.set_log_to_screen(True)\n",
    "\n",
    "print('Running...')\n",
    "samples  = abc.run()\n",
    "print('Done')"
   ]
  },
  {
   "cell_type": "markdown",
   "metadata": {},
   "source": [
    "We now plot the ABC posterior samples versus the actual value that was used to generate the data. This shows that, in this case, the parameter could be identified given the data."
   ]
  },
  {
   "cell_type": "code",
   "execution_count": 4,
   "metadata": {},
   "outputs": [
    {
     "data": {
      "image/png": "[encoded data removed]",
      "text/plain": [
       "<Figure size 432x288 with 1 Axes>"
      ]
     },
     "metadata": {
      "needs_background": "light"
     },
     "output_type": "display_data"
    }
   ],
   "source": [
    "plt.hist([x[0] for x in samples], label='Samples')\n",
    "\n",
    "plt.vlines(x=model.suggested_parameters(), linestyles='dashed', ymin=0, ymax=250, label='Actual value', color='red')\n",
    "plt.legend()\n",
    "plt.show()"
   ]
  },
  {
   "cell_type": "markdown",
   "metadata": {},
   "source": [
    "# Using the ask and tell interface"
   ]
  },
  {
   "cell_type": "markdown",
   "metadata": {},
   "source": [
    "Another alternative is to use the ask and tell interface directly. We provide an example which plots the samples for three ranges: 0-200, 200-400 and 400-1000."
   ]
  },
  {
   "cell_type": "code",
   "execution_count": 5,
   "metadata": {},
   "outputs": [
    {
     "name": "stdout",
     "output_type": "stream",
     "text": [
      "Starting sampler\n",
      "Starting t=0, with threshold=3.0\n",
      "Starting t=1, with threshold=1.5\n",
      "Starting t=2, with threshold=1.0\n",
      "Sampler finished\n"
     ]
    }
   ],
   "source": [
    "abcsmc = pints.ABCSMC(log_prior, nr_samples=200, error_schedule=np.array([3,1.5,1]))\n",
    "\n",
    "evaluator = pints.SequentialEvaluator(error_measure)\n",
    "\n",
    "print(\"Starting sampler\")\n",
    "f = []\n",
    "s = []\n",
    "l = []\n",
    "cnt = 0\n",
    "running = True\n",
    "while cnt < 1000:\n",
    "    accepted_vals = None\n",
    "    while accepted_vals is None:\n",
    "        xs = abcsmc.ask(1)\n",
    "        fxs = evaluator.evaluate(xs)\n",
    "        accepted_vals = abcsmc.tell(fxs)\n",
    "    if cnt < 200:\n",
    "        for val in accepted_vals:\n",
    "            f.append(val)\n",
    "    elif cnt < 400:\n",
    "        for val in accepted_vals:\n",
    "            s.append(val)\n",
    "    else:\n",
    "        for val in accepted_vals:\n",
    "            l.append(val)\n",
    "    cnt += len(accepted_vals)\n",
    "\n",
    "# log to screen\n",
    "abc.set_log_to_screen(True)\n",
    "print(\"Sampler finished\")"
   ]
  },
  {
   "cell_type": "code",
   "execution_count": 6,
   "metadata": {},
   "outputs": [
    {
     "data": {
      "image/png": "[encoded data removed]",
      "text/plain": [
       "<Figure size 432x288 with 1 Axes>"
      ]
     },
     "metadata": {
      "needs_background": "light"
     },
     "output_type": "display_data"
    }
   ],
   "source": [
    "plt.hist([x[0] for x in f], bins=10, label='Samples 0-200')\n",
    "\n",
    "\n",
    "plt.vlines(x=model.suggested_parameters(), linestyles='dashed', ymin=0, ymax=50, label='Actual value', color='red')\n",
    "plt.legend()\n",
    "plt.show()"
   ]
  },
  {
   "cell_type": "code",
   "execution_count": 7,
   "metadata": {},
   "outputs": [
    {
     "data": {
      "image/png": "[encoded data removed]",
      "text/plain": [
       "<Figure size 432x288 with 1 Axes>"
      ]
     },
     "metadata": {
      "needs_background": "light"
     },
     "output_type": "display_data"
    }
   ],
   "source": [
    "plt.hist([x[0] for x in s], bins=10, label='Samples 200-400')\n",
    "\n",
    "plt.vlines(x=model.suggested_parameters(), linestyles='dashed', ymin=0, ymax=50, label='Actual value', color='red')\n",
    "plt.legend()\n",
    "plt.show()"
   ]
  },
  {
   "cell_type": "code",
   "execution_count": 8,
   "metadata": {},
   "outputs": [
    {
     "data": {
      "image/png": "[encoded data removed]",
      "text/plain": [
       "<Figure size 432x288 with 1 Axes>"
      ]
     },
     "metadata": {
      "needs_background": "light"
     },
     "output_type": "display_data"
    }
   ],
   "source": [
    "plt.hist([x[0] for x in l], bins=10, label='Samples 400-1000')\n",
    "\n",
    "plt.vlines(x=model.suggested_parameters(), linestyles='dashed', ymin=0, ymax=140, label='Actual value', color='red')\n",
    "plt.legend()\n",
    "plt.show()"
   ]
  }
 ],
 "metadata": {
  "interpreter": {
   "hash": "62b8c3045b77e73a8aab814fbf01ae024ab075fc3f7014742f3a4c5a8ac43e7b"
  },
  "kernelspec": {
   "display_name": "Python 3.8.0 32-bit",
   "language": "python",
   "name": "python3"
  },
  "language_info": {
   "codemirror_mode": {
    "name": "ipython",
    "version": 3
   },
   "file_extension": ".py",
   "mimetype": "text/x-python",
   "name": "python",
   "nbconvert_exporter": "python",
   "pygments_lexer": "ipython3",
   "version": "3.8.0"
  },
  "orig_nbformat": 4
 },
 "nbformat": 4,
 "nbformat_minor": 2
}
