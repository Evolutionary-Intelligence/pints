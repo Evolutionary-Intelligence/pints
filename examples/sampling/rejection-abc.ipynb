{
 "cells": [
  {
   "cell_type": "markdown",
   "metadata": {},
   "source": [
    "# Rejection ABC\n"
   ]
  },
  {
   "cell_type": "markdown",
   "metadata": {},
   "source": [
    "This example shows you how to perform Rejection ABC on a time series from the [stochastic degradation model](../toy/model-stochastic-degradation.ipynb). This model describes the describes the stochastic process of a single chemical reaction, in which the concentration of a substance degrades over time as particles react. It differs from most other models in PINTS through the fact that a likelihood ( $D | \\theta$ ) cannot be derived and we are only able to produce stochastic simulations using Gillespie's algorithm. ABC samplers are the solution to such a problem since they do not evaluate the likelihood to sample from the posterior distribution ( $\\theta | D$ )."
   ]
  },
  {
   "cell_type": "markdown",
   "metadata": {},
   "source": [
    "First, we will load the stochastic degradation model. In order to emphasise the variety provided by the stochastic simulations we will plot multiple runs of the model with the same parameters."
   ]
  },
  {
   "cell_type": "code",
   "execution_count": 5,
   "metadata": {},
   "outputs": [],
   "source": [
    "import pints\n",
    "import pints.toy as toy\n",
    "import pints.plot\n",
    "import numpy as np\n",
    "import matplotlib.pyplot as plt"
   ]
  },
  {
   "cell_type": "code",
   "execution_count": 6,
   "metadata": {},
   "outputs": [
    {
     "data": {
      "image/png": "[encoded data removed]",
      "text/plain": [
       "<Figure size 432x288 with 1 Axes>"
      ]
     },
     "metadata": {
      "needs_background": "light"
     },
     "output_type": "display_data"
    }
   ],
   "source": [
    "np.random.seed(3)\n",
    "\n",
    "# Load a forward model\n",
    "model = toy.StochasticDegradationModel()\n",
    "\n",
    "# Create some toy data\n",
    "real_parameters = model.suggested_parameters()\n",
    "times = np.linspace(0, 10, 100)\n",
    "\n",
    "for i in range(10):\n",
    "    values = model.simulate(real_parameters, times)\n",
    "\n",
    "    # Create an object with links to the model and time series\n",
    "    problem = pints.SingleOutputProblem(model, times, values)\n",
    "\n",
    "    # Create a uniform prior parameter\n",
    "    log_prior = pints.UniformLogPrior([0.0], [0.3])\n",
    "\n",
    "    # Set the error measure to be used to compare simulated to observed data\n",
    "    error_measure = pints.RootMeanSquaredError(problem)\n",
    "\n",
    "    plt.step(times, values)\n",
    "\n",
    "\n",
    "plt.xlabel('time')\n",
    "plt.ylabel('concentration (A(t))')\n",
    "plt.show()"
   ]
  },
  {
   "cell_type": "markdown",
   "metadata": {},
   "source": [
    "## Fit using Rejection ABC\n",
    "\n",
    "The Rejection ABC algorithm can be applied to sample parameter values. An error measure will be used to compare the difference between the stochastic simulation obtained with the true set of parameters and the stochastic simulation obtained with a candidate value. Our error measure of choice is the root mean squared error. Root mean squared error has been chosen in order to amplify smaller differences between two stochastic simulations in order to increase the quality of our samples."
   ]
  },
  {
   "cell_type": "code",
   "execution_count": 7,
   "metadata": {},
   "outputs": [
    {
     "name": "stdout",
     "output_type": "stream",
     "text": [
      "Running...\n",
      "Using Rejection ABC\n",
      "Running in sequential mode.\n",
      "Iter. Eval. Acceptance rate Time m:s\n",
      "1     73     0.0136986301     0:00.0\n",
      "2     298    0.0067114094     0:00.1\n",
      "3     1214   0.00247116969    0:00.4\n",
      "20    8713   0.00229542064    0:02.5\n",
      "40    16802  0.00238066897    0:04.9\n",
      "60    24257  0.0024735128     0:06.9\n",
      "80    31257  0.00255942669    0:08.8\n",
      "100   38391  0.00260477716    0:10.7\n",
      "120   44873  0.00267421389    0:12.6\n",
      "140   49498  0.00282839711    0:13.9\n",
      "160   56999  0.00280706679    0:15.9\n",
      "180   62154  0.00289603244    0:17.3\n",
      "200   68341  0.00292650093    0:19.0\n",
      "Halting: target number of samples (200) reached.\n",
      "Done\n"
     ]
    }
   ],
   "source": [
    "abc = pints.ABCController(error_measure, log_prior)\n",
    "\n",
    "# set threshold\n",
    "abc.sampler().set_threshold(1)\n",
    "\n",
    "# set target number of samples\n",
    "abc.set_n_samples(200)\n",
    "\n",
    "# log to screen\n",
    "abc.set_log_to_screen(True)\n",
    "\n",
    "print('Running...')\n",
    "samples  = abc.run()\n",
    "print('Done')"
   ]
  },
  {
   "cell_type": "markdown",
   "metadata": {},
   "source": [
    "In order to find the efficiency of the rejection ABC, we plot the approximate posterior compared to the actual parameter value. In the graph, we can see that there is a high concentration of samples around the value with which the data was generated. This suggests that the rejection ABC algorithm performs well and that the root mean squared error was a good choice as an error measure, since high quality samples were produced."
   ]
  },
  {
   "cell_type": "code",
   "execution_count": 8,
   "metadata": {},
   "outputs": [
    {
     "data": {
      "image/png": "[encoded data removed]",
      "text/plain": [
       "<Figure size 432x288 with 1 Axes>"
      ]
     },
     "metadata": {
      "needs_background": "light"
     },
     "output_type": "display_data"
    }
   ],
   "source": [
    "plt.hist(samples[:,0], color=\"blue\", label=\"Samples\")\n",
    "plt.vlines(x=model.suggested_parameters(), linestyles='dashed', ymin=0, ymax=50, label=\"Actual value\", color=\"red\")\n",
    "plt.legend()\n",
    "plt.show()"
   ]
  },
  {
   "cell_type": "markdown",
   "metadata": {},
   "source": [
    "# Note on Rejection ABC\n",
    "\n",
    "The Rejection ABC algorithm is a highly simplistic method for Bayesian inference. As a consequence, it is inefficient when used with high variance priors.\n",
    "\n",
    "Please make sure that you are monitoring the acceptance rate to see if this algorithm is working for your problem."
   ]
  }
 ],
 "metadata": {
  "interpreter": {
   "hash": "62b8c3045b77e73a8aab814fbf01ae024ab075fc3f7014742f3a4c5a8ac43e7b"
  },
  "kernelspec": {
   "display_name": "Python 3.8.0 32-bit",
   "language": "python",
   "name": "python3"
  },
  "language_info": {
   "codemirror_mode": {
    "name": "ipython",
    "version": 3
   },
   "file_extension": ".py",
   "mimetype": "text/x-python",
   "name": "python",
   "nbconvert_exporter": "python",
   "pygments_lexer": "ipython3",
   "version": "3.8.0"
  },
  "orig_nbformat": 4
 },
 "nbformat": 4,
 "nbformat_minor": 2
}
